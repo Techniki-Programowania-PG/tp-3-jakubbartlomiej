{
 "cells": [
  {
   "cell_type": "markdown",
   "metadata": {},
   "source": [
    "# TECHNIKI PROGRAMOWANIA - projekt 3\n",
    "### Bartłomiej Fedorowicz 203405\n",
    "### Jakub Gomułkiewicz 203851\n",
    "\n",
    "Wykorzystane biblioteki:\n",
    "- matplotplusplus (c++)\n",
    "- pybind11/pybind11.h (c++)\n",
    "- pybind11/stl.h (c++)\n",
    "- pybind11/stl_bind.h (c++)\n",
    "- matplot/matplot.h (c++)\n",
    "- cmath (c++)\n",
    "- vector (c++)\n",
    "- utility (c++)"
   ]
  },
  {
   "cell_type": "markdown",
   "metadata": {},
   "source": [
    "# Wizualizacja wykresów 1D\n",
    "Przykład obrazujący zaimplementowaną funkcjonalnośc rysowania wykresów (poniżej przykłady: sinusoidalnego, cosinusoidalnego, prostokątnego, piłozębnego)"
   ]
  },
  {
   "cell_type": "code",
   "execution_count": 7,
   "metadata": {},
   "outputs": [],
   "source": [
    "from __future__ import annotations\n",
    "\n",
    "import scikit_build_example as m\n",
    "def test_sin():\n",
    "    m.showPattern(m.sinPattern(0.16, 0, 6.28, 1000))"
   ]
  },
  {
   "cell_type": "markdown",
   "metadata": {},
   "source": [
    "![sinusoida](sinusoida.png)"
   ]
  },
  {
   "cell_type": "code",
   "execution_count": 8,
   "metadata": {},
   "outputs": [],
   "source": [
    "from __future__ import annotations\n",
    "\n",
    "import scikit_build_example as m\n",
    "\n",
    "def test_cos():\n",
    "    m.showPattern(m.cosPattern(0.16, -3.1415, 3.1415, 1000))"
   ]
  },
  {
   "cell_type": "markdown",
   "metadata": {},
   "source": [
    "![cosinusoida](cosinusoida.png)"
   ]
  },
  {
   "cell_type": "code",
   "execution_count": 12,
   "metadata": {},
   "outputs": [],
   "source": [
    "from __future__ import annotations\n",
    "\n",
    "import scikit_build_example as m\n",
    "def test_square():\n",
    "    m.showPattern(m.squarePattern(1, -3.1415, 3.1415, 1000))"
   ]
  },
  {
   "cell_type": "markdown",
   "metadata": {},
   "source": [
    "![prostokatny](prostokatny.png)"
   ]
  },
  {
   "cell_type": "code",
   "execution_count": 13,
   "metadata": {},
   "outputs": [],
   "source": [
    "from __future__ import annotations\n",
    "\n",
    "import scikit_build_example as m\n",
    "def test_sawtooth():\n",
    "     m.showPattern(m.sawtoothPattern(1, -3.1415, 3.1415, 1000))"
   ]
  },
  {
   "cell_type": "markdown",
   "metadata": {},
   "source": [
    "![pilozebny](pilozebny.png)"
   ]
  },
  {
   "cell_type": "markdown",
   "metadata": {},
   "source": [
    "# DFT i IDFT\n",
    "W celu sprawdzenia poprawności implementacji DFT wykorzystamy przykładowy przebieg sinusa:\n",
    "- sin(0.16ft) od 0 do 2pi, N=1000\n",
    "  kolejno DFT i IDFT"
   ]
  },
  {
   "cell_type": "markdown",
   "metadata": {},
   "source": [
    "## sin(0.16ft)"
   ]
  },
  {
   "cell_type": "code",
   "execution_count": 14,
   "metadata": {},
   "outputs": [],
   "source": [
    "from __future__ import annotations\n",
    "\n",
    "import scikit_build_example as m\n",
    "\n",
    "def test_dft():\n",
    "    m.showDFTPattern(m.discreteFourierTransform(m.sinPattern(0.16, 0, 6.28, 1000)))"
   ]
  },
  {
   "cell_type": "markdown",
   "metadata": {},
   "source": [
    "![sin_0.16ft_dft](sinusDFT.png)\n",
    "![sin 0.16ft](sinusOryg.png)"
   ]
  },
  {
   "cell_type": "code",
   "execution_count": 11,
   "metadata": {},
   "outputs": [],
   "source": [
    "def test_inverse_dft():\n",
    "    m.showPattern(m.inverseDiscreteFourierTransform(m.discreteFourierTransform(m.sinPattern(0.16, 0, 6.28, 1000))))"
   ]
  },
  {
   "cell_type": "code",
   "execution_count": null,
   "metadata": {},
   "outputs": [],
   "source": []
  }
 ],
 "metadata": {
  "kernelspec": {
   "display_name": "Python 3 (ipykernel)",
   "language": "python",
   "name": "python3"
  },
  "language_info": {
   "codemirror_mode": {
    "name": "ipython",
    "version": 3
   },
   "file_extension": ".py",
   "mimetype": "text/x-python",
   "name": "python",
   "nbconvert_exporter": "python",
   "pygments_lexer": "ipython3",
   "version": "3.13.2"
  }
 },
 "nbformat": 4,
 "nbformat_minor": 4
}
